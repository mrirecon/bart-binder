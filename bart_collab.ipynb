{
  "cells": [
    {
      "cell_type": "markdown",
      "metadata": {
        "id": "cQ9JjVdKhX-0"
      },
      "source": [
        "# BART\n",
        "\n"
      ]
    },
    {
      "cell_type": "markdown",
      "metadata": {
        "id": "KJG3DNQ2hX-4"
      },
      "source": [
        "### 0. Setup BART on Google Colab\n",
        "\n",
        "The cell will setup BART on Google Colab. For a detailed explanation, see **How to Run BART on Google Colaboratory** in the [repository 2021](https://github.com/mrirecon/bart-workshop/tree/master/ismrm2021). You can skip this part if you want to run this notebook on Binder or your local machine with BART already installed."
      ]
    },
    {
      "cell_type": "code",
      "execution_count": 1,
      "metadata": {
        "id": "_mQXQsEOhX-5"
      },
      "outputs": [],
      "source": [
        "%%bash\n",
        "\n",
        "# Install BARTs dependencies\n",
        "apt-get install -y make gcc libfftw3-dev liblapacke-dev libpng-dev libopenblas-dev bc &> /dev/null\n",
        "\n",
        "# Clone Bart\n",
        "[ -d /content/bart ] && rm -r /content/bart\n",
        "git clone https://github.com/mrirecon/bart/ bart &> /dev/null"
      ]
    },
    {
      "cell_type": "code",
      "execution_count": 2,
      "metadata": {
        "id": "E2N6aPWhhX-7"
      },
      "outputs": [],
      "source": [
        "%%bash\n",
        "\n",
        "BRANCH=v0.7.00\n",
        "\n",
        "cd bart\n",
        "\n",
        "# Switch to desired branch of the BART project\n",
        "git checkout -q $BRANCH\n",
        "\n",
        "# Define specifications \n",
        "COMPILE_SPECS=\"PARALLEL=1\"\n",
        "\n",
        "printf \"%s\\n\" $COMPILE_SPECS > Makefiles/Makefile.local\n",
        "\n",
        "make &> /dev/null"
      ]
    },
    {
      "cell_type": "code",
      "execution_count": 3,
      "metadata": {
        "id": "OBlOCGsPhX-7"
      },
      "outputs": [],
      "source": [
        "import os\n",
        "import sys\n",
        "\n",
        "# Define environment variables for BART and OpenMP\n",
        "\n",
        "os.environ['TOOLBOX_PATH'] = \"/content/bart\"\n",
        "\n",
        "os.environ['OMP_NUM_THREADS']=\"4\"\n",
        "\n",
        "# Add the BARTs toolbox to the PATH variable\n",
        "\n",
        "os.environ['PATH'] = os.environ['TOOLBOX_PATH'] + \":\" + os.environ['PATH']\n",
        "sys.path.append(os.environ['TOOLBOX_PATH'] + \"/python\")"
      ]
    },
    {
      "cell_type": "markdown",
      "metadata": {
        "id": "AQyCXVO0hX-8"
      },
      "source": [
        "#### Check BART version\n",
        "\n",
        "Let us check the installed BART version."
      ]
    },
    {
      "cell_type": "code",
      "execution_count": 4,
      "metadata": {
        "id": "-LDtWMqXhX-8",
        "outputId": "6bf7424c-7016-4c34-842a-90d9cc9b1ac5",
        "colab": {
          "base_uri": "https://localhost:8080/"
        }
      },
      "outputs": [
        {
          "output_type": "stream",
          "name": "stdout",
          "text": [
            "# The BART used in this notebook:\n",
            "/content/bart/bart\n",
            "# BART version: \n",
            "v0.7.00\n"
          ]
        }
      ],
      "source": [
        "%%bash\n",
        "\n",
        "echo \"# The BART used in this notebook:\"\n",
        "which bart\n",
        "echo \"# BART version: \"\n",
        "bart version"
      ]
    },
    {
      "cell_type": "markdown",
      "metadata": {
        "id": "HMV_psFbhX-9"
      },
      "source": [
        "### Function for Visualization"
      ]
    },
    {
      "cell_type": "code",
      "execution_count": 5,
      "metadata": {
        "id": "w1VcmvUbhX--"
      },
      "outputs": [],
      "source": [
        "import sys\n",
        "import os\n",
        "sys.path.insert(0, os.path.join(os.environ['TOOLBOX_PATH'], 'python'))\n",
        "import cfl\n",
        "\n",
        "import numpy as np\n",
        "import matplotlib.pyplot as plt\n",
        "\n",
        "    \n",
        "def imshow(img):\n",
        "    \n",
        "    plt.imshow(np.abs(img.squeeze()))\n",
        "        \n"
      ]
    },
    {
      "cell_type": "markdown",
      "metadata": {
        "id": "A_WcTdOthX_B"
      },
      "source": [
        "Simulate k-space data:\n"
      ]
    },
    {
      "cell_type": "code",
      "execution_count": 6,
      "metadata": {
        "id": "Q_Dw_Q3thX_D"
      },
      "outputs": [],
      "source": [
        "! bart phantom -k ksp"
      ]
    },
    {
      "cell_type": "markdown",
      "metadata": {
        "id": "xjB-vQbghX_D"
      },
      "source": [
        "Look at the header file:"
      ]
    },
    {
      "cell_type": "code",
      "source": [
        "! cat ksp.hdr"
      ],
      "metadata": {
        "id": "E6zRdEgxiok0",
        "outputId": "2321218b-5700-4fc5-9c58-c859cc743d62",
        "colab": {
          "base_uri": "https://localhost:8080/"
        }
      },
      "execution_count": 7,
      "outputs": [
        {
          "output_type": "stream",
          "name": "stdout",
          "text": [
            "# Dimensions\n",
            "128 128 1 1 1 1 1 1 1 1 1 1 1 1 1 1 \n",
            "# Command\n",
            "phantom -k ksp \n",
            "# Files\n",
            " >ksp\n",
            "# Creator\n",
            "BART v0.7.00\n"
          ]
        }
      ]
    },
    {
      "cell_type": "markdown",
      "metadata": {
        "id": "4XzDI8u8hX_D"
      },
      "source": [
        "Apply inverse Fourier transform:"
      ]
    },
    {
      "cell_type": "code",
      "source": [
        "! bart fft -i $(bart bitmask 0 1) ksp img"
      ],
      "metadata": {
        "id": "2x7DdNSBivqE"
      },
      "execution_count": 8,
      "outputs": []
    },
    {
      "cell_type": "markdown",
      "source": [
        "Show the reconstructed image:"
      ],
      "metadata": {
        "id": "piQ0puoFjIjB"
      }
    },
    {
      "cell_type": "code",
      "source": [
        "img = cfl.readcfl('img')\n",
        "imshow(img)"
      ],
      "metadata": {
        "id": "5qEqO5RNjMTu",
        "outputId": "52621f0c-a8a8-4bd9-f8a5-934650f9d002",
        "colab": {
          "base_uri": "https://localhost:8080/",
          "height": 268
        }
      },
      "execution_count": 9,
      "outputs": [
        {
          "output_type": "display_data",
          "data": {
            "text/plain": [
              "<Figure size 432x288 with 1 Axes>"
            ],
            "image/png": "[encoded data removed]"
          },
          "metadata": {
            "needs_background": "light"
          }
        }
      ]
    },
    {
      "cell_type": "markdown",
      "source": [
        ""
      ],
      "metadata": {
        "id": "s4VFl33UjMgs"
      }
    },
    {
      "cell_type": "code",
      "execution_count": 10,
      "metadata": {
        "id": "haQRMSPThX_K"
      },
      "outputs": [],
      "source": [
        "%%bash\n",
        "rm *.{hdr,cfl}"
      ]
    },
    {
      "cell_type": "code",
      "execution_count": 10,
      "metadata": {
        "id": "KZX3WaZwhX_K"
      },
      "outputs": [],
      "source": [
        ""
      ]
    }
  ],
  "metadata": {
    "jupytext": {
      "formats": "ipynb,md"
    },
    "kernelspec": {
      "display_name": "Python 3",
      "language": "python",
      "name": "python3"
    },
    "language_info": {
      "codemirror_mode": {
        "name": "ipython",
        "version": 3
      },
      "file_extension": ".py",
      "mimetype": "text/x-python",
      "name": "python",
      "nbconvert_exporter": "python",
      "pygments_lexer": "ipython3",
      "version": "3.9.2"
    },
    "colab": {
      "name": "bart_colab.ipynb",
      "provenance": []
    }
  },
  "nbformat": 4,
  "nbformat_minor": 0
}
